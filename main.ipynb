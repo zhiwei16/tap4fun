{
 "cells": [
  {
   "cell_type": "code",
   "execution_count": 1,
   "metadata": {
    "collapsed": true
   },
   "outputs": [],
   "source": [
    "import pandas as pd\n",
    "import math\n",
    "import numpy as np\n",
    "import os"
   ]
  },
  {
   "cell_type": "code",
   "execution_count": 2,
   "metadata": {
    "collapsed": true
   },
   "outputs": [],
   "source": [
    "train_file='./input/tap_fun_train.csv'\n",
    "test_file='./input//tap_fun_test.csv'\n",
    "train_data=pd.read_csv(train_file)\n",
    "test_data=pd.read_csv(test_file)"
   ]
  },
  {
   "cell_type": "code",
   "execution_count": 3,
   "metadata": {
    "collapsed": true
   },
   "outputs": [],
   "source": [
    "train_data_sample = train_data.sample(frac=0.1, random_state=42).copy()"
   ]
  },
  {
   "cell_type": "code",
   "execution_count": 4,
   "metadata": {
    "collapsed": true
   },
   "outputs": [],
   "source": [
    "def cal_na(dataframe):\n",
    "    n_list = dataframe.isnull().sum(axis = 1).tolist()\n",
    "    res = {col:n for col,n in zip(dataframe.columns, n_list)}\n",
    "    return res"
   ]
  },
  {
   "cell_type": "code",
   "execution_count": 5,
   "metadata": {},
   "outputs": [
    {
     "data": {
      "text/plain": [
       "{'user_id': 0,\n",
       " 'register_time': 0,\n",
       " 'wood_add_value': 0,\n",
       " 'wood_reduce_value': 0,\n",
       " 'stone_add_value': 0,\n",
       " 'stone_reduce_value': 0,\n",
       " 'ivory_add_value': 0,\n",
       " 'ivory_reduce_value': 0,\n",
       " 'meat_add_value': 0,\n",
       " 'meat_reduce_value': 0,\n",
       " 'magic_add_value': 0,\n",
       " 'magic_reduce_value': 0,\n",
       " 'infantry_add_value': 0,\n",
       " 'infantry_reduce_value': 0,\n",
       " 'cavalry_add_value': 0,\n",
       " 'cavalry_reduce_value': 0,\n",
       " 'shaman_add_value': 0,\n",
       " 'shaman_reduce_value': 0,\n",
       " 'wound_infantry_add_value': 0,\n",
       " 'wound_infantry_reduce_value': 0,\n",
       " 'wound_cavalry_add_value': 0,\n",
       " 'wound_cavalry_reduce_value': 0,\n",
       " 'wound_shaman_add_value': 0,\n",
       " 'wound_shaman_reduce_value': 0,\n",
       " 'general_acceleration_add_value': 0,\n",
       " 'general_acceleration_reduce_value': 0,\n",
       " 'building_acceleration_add_value': 0,\n",
       " 'building_acceleration_reduce_value': 0,\n",
       " 'reaserch_acceleration_add_value': 0,\n",
       " 'reaserch_acceleration_reduce_value': 0,\n",
       " 'training_acceleration_add_value': 0,\n",
       " 'training_acceleration_reduce_value': 0,\n",
       " 'treatment_acceleraion_add_value': 0,\n",
       " 'treatment_acceleration_reduce_value': 0,\n",
       " 'bd_training_hut_level': 0,\n",
       " 'bd_healing_lodge_level': 0,\n",
       " 'bd_stronghold_level': 0,\n",
       " 'bd_outpost_portal_level': 0,\n",
       " 'bd_barrack_level': 0,\n",
       " 'bd_healing_spring_level': 0,\n",
       " 'bd_dolmen_level': 0,\n",
       " 'bd_guest_cavern_level': 0,\n",
       " 'bd_warehouse_level': 0,\n",
       " 'bd_watchtower_level': 0,\n",
       " 'bd_magic_coin_tree_level': 0,\n",
       " 'bd_hall_of_war_level': 0,\n",
       " 'bd_market_level': 0,\n",
       " 'bd_hero_gacha_level': 0,\n",
       " 'bd_hero_strengthen_level': 0,\n",
       " 'bd_hero_pve_level': 0,\n",
       " 'sr_scout_level': 0,\n",
       " 'sr_training_speed_level': 0,\n",
       " 'sr_infantry_tier_2_level': 0,\n",
       " 'sr_cavalry_tier_2_level': 0,\n",
       " 'sr_shaman_tier_2_level': 0,\n",
       " 'sr_infantry_atk_level': 0,\n",
       " 'sr_cavalry_atk_level': 0,\n",
       " 'sr_shaman_atk_level': 0,\n",
       " 'sr_infantry_tier_3_level': 0,\n",
       " 'sr_cavalry_tier_3_level': 0,\n",
       " 'sr_shaman_tier_3_level': 0,\n",
       " 'sr_troop_defense_level': 0,\n",
       " 'sr_infantry_def_level': 0,\n",
       " 'sr_cavalry_def_level': 0,\n",
       " 'sr_shaman_def_level': 0,\n",
       " 'sr_infantry_hp_level': 0,\n",
       " 'sr_cavalry_hp_level': 0,\n",
       " 'sr_shaman_hp_level': 0,\n",
       " 'sr_infantry_tier_4_level': 0,\n",
       " 'sr_cavalry_tier_4_level': 0,\n",
       " 'sr_shaman_tier_4_level': 0,\n",
       " 'sr_troop_attack_level': 0,\n",
       " 'sr_construction_speed_level': 0,\n",
       " 'sr_hide_storage_level': 0,\n",
       " 'sr_troop_consumption_level': 0,\n",
       " 'sr_rss_a_prod_levell': 0,\n",
       " 'sr_rss_b_prod_level': 0,\n",
       " 'sr_rss_c_prod_level': 0,\n",
       " 'sr_rss_d_prod_level': 0,\n",
       " 'sr_rss_a_gather_level': 0,\n",
       " 'sr_rss_b_gather_level': 0,\n",
       " 'sr_rss_c_gather_level': 0,\n",
       " 'sr_rss_d_gather_level': 0,\n",
       " 'sr_troop_load_level': 0,\n",
       " 'sr_rss_e_gather_level': 0,\n",
       " 'sr_rss_e_prod_level': 0,\n",
       " 'sr_outpost_durability_level': 0,\n",
       " 'sr_outpost_tier_2_level': 0,\n",
       " 'sr_healing_space_level': 0,\n",
       " 'sr_gathering_hunter_buff_level': 0,\n",
       " 'sr_healing_speed_level': 0,\n",
       " 'sr_outpost_tier_3_level': 0,\n",
       " 'sr_alliance_march_speed_level': 0,\n",
       " 'sr_pvp_march_speed_level': 0,\n",
       " 'sr_gathering_march_speed_level': 0,\n",
       " 'sr_outpost_tier_4_level': 0,\n",
       " 'sr_guest_troop_capacity_level': 0,\n",
       " 'sr_march_size_level': 0,\n",
       " 'sr_rss_help_bonus_level': 0,\n",
       " 'pvp_battle_count': 0,\n",
       " 'pvp_lanch_count': 0,\n",
       " 'pvp_win_count': 0,\n",
       " 'pve_battle_count': 0,\n",
       " 'pve_lanch_count': 0,\n",
       " 'pve_win_count': 0,\n",
       " 'avg_online_minutes': 0,\n",
       " 'pay_price': 0,\n",
       " 'pay_count': 0,\n",
       " 'prediction_pay_price': 0}"
      ]
     },
     "execution_count": 5,
     "metadata": {},
     "output_type": "execute_result"
    }
   ],
   "source": [
    "res_train = cal_na(train_data)\n",
    "res_train"
   ]
  },
  {
   "cell_type": "code",
   "execution_count": 6,
   "metadata": {},
   "outputs": [
    {
     "data": {
      "text/plain": [
       "Index(['user_id', 'register_time', 'wood_add_value', 'wood_reduce_value',\n",
       "       'stone_add_value', 'stone_reduce_value', 'ivory_add_value',\n",
       "       'ivory_reduce_value', 'meat_add_value', 'meat_reduce_value',\n",
       "       ...\n",
       "       'pvp_battle_count', 'pvp_lanch_count', 'pvp_win_count',\n",
       "       'pve_battle_count', 'pve_lanch_count', 'pve_win_count',\n",
       "       'avg_online_minutes', 'pay_price', 'pay_count', 'prediction_pay_price'],\n",
       "      dtype='object', length=109)"
      ]
     },
     "execution_count": 6,
     "metadata": {},
     "output_type": "execute_result"
    }
   ],
   "source": [
    "train_data.columns"
   ]
  },
  {
   "cell_type": "code",
   "execution_count": 7,
   "metadata": {
    "collapsed": true
   },
   "outputs": [],
   "source": [
    "cols = train_data.columns[2:-1].tolist()\n",
    "X = train_data[cols].copy()\n",
    "y = train_data['prediction_pay_price'].copy()"
   ]
  },
  {
   "cell_type": "code",
   "execution_count": 8,
   "metadata": {
    "collapsed": true
   },
   "outputs": [],
   "source": [
    "#特征工程\n",
    "ts = pd.to_datetime(train_data['register_time'])"
   ]
  },
  {
   "cell_type": "code",
   "execution_count": 9,
   "metadata": {
    "collapsed": true
   },
   "outputs": [],
   "source": [
    "X['weekday'] = ts.dt.weekday\n",
    "X['month'] = ts.dt.month\n",
    "X['day'] = ts.dt.day\n",
    "X['time'] = ts.dt.hour * 3600 + ts.dt.minute * 60 + ts.dt.second"
   ]
  },
  {
   "cell_type": "code",
   "execution_count": 10,
   "metadata": {
    "collapsed": true
   },
   "outputs": [],
   "source": [
    "from sklearn.model_selection import train_test_split\n",
    "# X_train, X_test, y_train, y_test = train_test_split(X, y, test_size=0.33, random_state=42)\n",
    "X_train, y_train = X, y"
   ]
  },
  {
   "cell_type": "code",
   "execution_count": 11,
   "metadata": {
    "collapsed": true
   },
   "outputs": [],
   "source": [
    "from sklearn.preprocessing import StandardScaler\n",
    "scaler = StandardScaler()\n",
    "scaler.fit(X_train)\n",
    "# X_train_ = scaler.transform(X_train)\n",
    "# X_test_ = scaler.transform(X_test)\n",
    "X_train_ = scaler.transform(X_train)"
   ]
  },
  {
   "cell_type": "code",
   "execution_count": 26,
   "metadata": {
    "collapsed": true
   },
   "outputs": [],
   "source": [
    "from sklearn import linear_model\n",
    "from sklearn.ensemble import RandomForestRegressor\n",
    "from sklearn.model_selection import GridSearchCV\n",
    "parameters = {'n_estimators':[10,100,1000]}\n",
    "reg = RandomForestRegressor(random_state=42,n_jobs=70)\n",
    "clf = GridSearchCV(estimator=reg, param_grid=parameters, scoring='neg_mean_squared_error',\n",
    "                   cv=3, n_jobs=70, refit=True, verbose=3)"
   ]
  },
  {
   "cell_type": "code",
   "execution_count": null,
   "metadata": {},
   "outputs": [
    {
     "name": "stdout",
     "output_type": "stream",
     "text": [
      "Fitting 3 folds for each of 3 candidates, totalling 9 fits\n",
      "[CV] n_estimators=10 .................................................\n",
      "[CV] n_estimators=10 .................................................\n",
      "[CV] n_estimators=10 .................................................\n",
      "[CV] n_estimators=100 ................................................\n",
      "[CV] n_estimators=100 ................................................\n",
      "[CV] n_estimators=100 ................................................\n",
      "[CV] n_estimators=1000 ...............................................\n",
      "[CV] n_estimators=1000 ...............................................\n",
      "[CV] n_estimators=1000 ...............................................\n"
     ]
    }
   ],
   "source": [
    "clf.fit(X_train_, y_train)"
   ]
  },
  {
   "cell_type": "code",
   "execution_count": 28,
   "metadata": {},
   "outputs": [
    {
     "data": {
      "text/plain": [
       "RandomForestRegressor(bootstrap=True, criterion='mse', max_depth=None,\n",
       "           max_features='auto', max_leaf_nodes=None,\n",
       "           min_impurity_decrease=0.0, min_impurity_split=None,\n",
       "           min_samples_leaf=1, min_samples_split=2,\n",
       "           min_weight_fraction_leaf=0.0, n_estimators=1000, n_jobs=70,\n",
       "           oob_score=False, random_state=42, verbose=0, warm_start=False)"
      ]
     },
     "execution_count": 28,
     "metadata": {},
     "output_type": "execute_result"
    }
   ],
   "source": [
    "clf.best_estimator_"
   ]
  },
  {
   "cell_type": "code",
   "execution_count": 33,
   "metadata": {},
   "outputs": [
    {
     "name": "stderr",
     "output_type": "stream",
     "text": [
      "/data/miniconda2/envs/python3/lib/python3.6/site-packages/sklearn/utils/deprecation.py:122: FutureWarning: You are accessing a training score ('split0_train_score'), which will not be available by default any more in 0.21. If you need training scores, please set return_train_score=True\n",
      "  warnings.warn(*warn_args, **warn_kwargs)\n",
      "/data/miniconda2/envs/python3/lib/python3.6/site-packages/sklearn/utils/deprecation.py:122: FutureWarning: You are accessing a training score ('split1_train_score'), which will not be available by default any more in 0.21. If you need training scores, please set return_train_score=True\n",
      "  warnings.warn(*warn_args, **warn_kwargs)\n",
      "/data/miniconda2/envs/python3/lib/python3.6/site-packages/sklearn/utils/deprecation.py:122: FutureWarning: You are accessing a training score ('split2_train_score'), which will not be available by default any more in 0.21. If you need training scores, please set return_train_score=True\n",
      "  warnings.warn(*warn_args, **warn_kwargs)\n",
      "/data/miniconda2/envs/python3/lib/python3.6/site-packages/sklearn/utils/deprecation.py:122: FutureWarning: You are accessing a training score ('mean_train_score'), which will not be available by default any more in 0.21. If you need training scores, please set return_train_score=True\n",
      "  warnings.warn(*warn_args, **warn_kwargs)\n",
      "/data/miniconda2/envs/python3/lib/python3.6/site-packages/sklearn/utils/deprecation.py:122: FutureWarning: You are accessing a training score ('std_train_score'), which will not be available by default any more in 0.21. If you need training scores, please set return_train_score=True\n",
      "  warnings.warn(*warn_args, **warn_kwargs)\n"
     ]
    },
    {
     "data": {
      "text/plain": [
       "{'mean_fit_time': array([ 3832.33247932,  6599.86188436, 23811.11174901]),\n",
       " 'std_fit_time': array([786.84280161, 119.97995326,  97.88823533]),\n",
       " 'mean_score_time': array([18.63440235, 16.79335006, 14.38614329]),\n",
       " 'std_score_time': array([2.58265504, 3.41581353, 6.4108255 ]),\n",
       " 'param_n_estimators': masked_array(data=[10, 100, 1000],\n",
       "              mask=[False, False, False],\n",
       "        fill_value='?',\n",
       "             dtype=object),\n",
       " 'params': [{'n_estimators': 10},\n",
       "  {'n_estimators': 100},\n",
       "  {'n_estimators': 1000}],\n",
       " 'split0_test_score': array([-4919.38848706, -4551.10354216, -4412.39742854]),\n",
       " 'split1_test_score': array([-4795.07261303, -4312.38918356, -4237.93166519]),\n",
       " 'split2_test_score': array([-5078.12155401, -4562.78549865, -4593.33506013]),\n",
       " 'mean_test_score': array([-4930.8608847 , -4475.42607479, -4414.55471795]),\n",
       " 'std_test_score': array([115.83864547, 115.3830951 , 145.10084702]),\n",
       " 'rank_test_score': array([3, 2, 1], dtype=int32),\n",
       " 'split0_train_score': array([-601.8290747 , -550.11827112, -522.65677521]),\n",
       " 'split1_train_score': array([-703.97874346, -587.30572143, -533.96451224]),\n",
       " 'split2_train_score': array([-740.08105956, -553.70075307, -546.62508623]),\n",
       " 'mean_train_score': array([-681.96295924, -563.70824854, -534.41545789]),\n",
       " 'std_train_score': array([58.54869139, 16.74990725,  9.79021611])}"
      ]
     },
     "execution_count": 33,
     "metadata": {},
     "output_type": "execute_result"
    }
   ],
   "source": [
    "clf.cv_results_"
   ]
  },
  {
   "cell_type": "code",
   "execution_count": 34,
   "metadata": {},
   "outputs": [
    {
     "name": "stderr",
     "output_type": "stream",
     "text": [
      "/data/miniconda2/envs/python3/lib/python3.6/site-packages/ipykernel_launcher.py:3: SettingWithCopyWarning: \n",
      "A value is trying to be set on a copy of a slice from a DataFrame.\n",
      "Try using .loc[row_indexer,col_indexer] = value instead\n",
      "\n",
      "See the caveats in the documentation: http://pandas.pydata.org/pandas-docs/stable/indexing.html#indexing-view-versus-copy\n",
      "  This is separate from the ipykernel package so we can avoid doing imports until\n"
     ]
    }
   ],
   "source": [
    "X_pred = test_data[cols]\n",
    "ts_ = pd.to_datetime(test_data['register_time'])\n",
    "X_pred['weekday'] = ts_.dt.weekday\n",
    "X_pred['month'] = ts_.dt.month\n",
    "X_pred['day'] = ts_.dt.day\n",
    "X_pred['time'] = ts_.dt.hour * 3600 + ts_.dt.minute * 60 + ts_.dt.second\n",
    "X_pred_ = scaler.transform(X_pred)"
   ]
  },
  {
   "cell_type": "code",
   "execution_count": 35,
   "metadata": {
    "collapsed": true
   },
   "outputs": [],
   "source": [
    "result = test_data[['user_id']].copy()\n",
    "result['prediction_pay_price'] = clf.best_estimator_.predict(X_pred_)"
   ]
  },
  {
   "cell_type": "code",
   "execution_count": 36,
   "metadata": {
    "collapsed": true
   },
   "outputs": [],
   "source": [
    "result.to_csv('./output/submission.csv', index=False)"
   ]
  },
  {
   "cell_type": "code",
   "execution_count": null,
   "metadata": {
    "collapsed": true
   },
   "outputs": [],
   "source": []
  }
 ],
 "metadata": {
  "kernelspec": {
   "display_name": "Python 3",
   "language": "python",
   "name": "python3"
  },
  "language_info": {
   "codemirror_mode": {
    "name": "ipython",
    "version": 3
   },
   "file_extension": ".py",
   "mimetype": "text/x-python",
   "name": "python",
   "nbconvert_exporter": "python",
   "pygments_lexer": "ipython3",
   "version": "3.6.3"
  }
 },
 "nbformat": 4,
 "nbformat_minor": 2
}
